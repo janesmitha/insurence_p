{
 "cells": [
  {
   "cell_type": "markdown",
   "metadata": {},
   "source": [
    "### Feature Engineering \n",
    "    Feature engineering refers to manipulation — addition, deletion, combination, mutation — of our data set to improve machine learning model training, leading to better performance and greater accuracy. Effective feature engineering is based on sound knowledge of the business problem and the available data sources.   "
   ]
  },
  {
   "cell_type": "markdown",
   "metadata": {},
   "source": []
  },
  {
   "cell_type": "markdown",
   "metadata": {},
   "source": [
    "### -------------------------Data Selection--------------------------------"
   ]
  },
  {
   "cell_type": "markdown",
   "metadata": {},
   "source": [
    "- ##### Importing necessary libraries"
   ]
  },
  {
   "cell_type": "code",
   "execution_count": 76,
   "metadata": {},
   "outputs": [],
   "source": [
    "\n",
    "import pandas as pd\n",
    "import numpy as np\n",
    "import matplotlib.pyplot as plt\n",
    "import seaborn as sns\n",
    "import sklearn"
   ]
  },
  {
   "cell_type": "markdown",
   "metadata": {},
   "source": [
    "- ##### Getting dataset "
   ]
  },
  {
   "cell_type": "code",
   "execution_count": 22,
   "metadata": {},
   "outputs": [
    {
     "data": {
      "text/html": [
       "<div>\n",
       "<style scoped>\n",
       "    .dataframe tbody tr th:only-of-type {\n",
       "        vertical-align: middle;\n",
       "    }\n",
       "\n",
       "    .dataframe tbody tr th {\n",
       "        vertical-align: top;\n",
       "    }\n",
       "\n",
       "    .dataframe thead th {\n",
       "        text-align: right;\n",
       "    }\n",
       "</style>\n",
       "<table border=\"1\" class=\"dataframe\">\n",
       "  <thead>\n",
       "    <tr style=\"text-align: right;\">\n",
       "      <th></th>\n",
       "      <th>age</th>\n",
       "      <th>sex</th>\n",
       "      <th>bmi</th>\n",
       "      <th>children</th>\n",
       "      <th>smoker</th>\n",
       "      <th>region</th>\n",
       "      <th>expenses</th>\n",
       "    </tr>\n",
       "  </thead>\n",
       "  <tbody>\n",
       "    <tr>\n",
       "      <th>0</th>\n",
       "      <td>19</td>\n",
       "      <td>female</td>\n",
       "      <td>27.9</td>\n",
       "      <td>0</td>\n",
       "      <td>yes</td>\n",
       "      <td>southwest</td>\n",
       "      <td>16884.92</td>\n",
       "    </tr>\n",
       "    <tr>\n",
       "      <th>1</th>\n",
       "      <td>18</td>\n",
       "      <td>male</td>\n",
       "      <td>33.8</td>\n",
       "      <td>1</td>\n",
       "      <td>no</td>\n",
       "      <td>southeast</td>\n",
       "      <td>1725.55</td>\n",
       "    </tr>\n",
       "    <tr>\n",
       "      <th>2</th>\n",
       "      <td>28</td>\n",
       "      <td>male</td>\n",
       "      <td>33.0</td>\n",
       "      <td>3</td>\n",
       "      <td>no</td>\n",
       "      <td>southeast</td>\n",
       "      <td>4449.46</td>\n",
       "    </tr>\n",
       "    <tr>\n",
       "      <th>3</th>\n",
       "      <td>33</td>\n",
       "      <td>male</td>\n",
       "      <td>22.7</td>\n",
       "      <td>0</td>\n",
       "      <td>no</td>\n",
       "      <td>northwest</td>\n",
       "      <td>21984.47</td>\n",
       "    </tr>\n",
       "    <tr>\n",
       "      <th>4</th>\n",
       "      <td>32</td>\n",
       "      <td>male</td>\n",
       "      <td>28.9</td>\n",
       "      <td>0</td>\n",
       "      <td>no</td>\n",
       "      <td>northwest</td>\n",
       "      <td>3866.86</td>\n",
       "    </tr>\n",
       "  </tbody>\n",
       "</table>\n",
       "</div>"
      ],
      "text/plain": [
       "   age     sex   bmi  children smoker     region  expenses\n",
       "0   19  female  27.9         0    yes  southwest  16884.92\n",
       "1   18    male  33.8         1     no  southeast   1725.55\n",
       "2   28    male  33.0         3     no  southeast   4449.46\n",
       "3   33    male  22.7         0     no  northwest  21984.47\n",
       "4   32    male  28.9         0     no  northwest   3866.86"
      ]
     },
     "execution_count": 22,
     "metadata": {},
     "output_type": "execute_result"
    }
   ],
   "source": [
    "#Data set \n",
    "dataset_download_url = \"https://raw.githubusercontent.com/Tanweer-Raza/data_set_for_project/main/insurance.csv\"\n",
    "data_set = pd.read_csv(dataset_download_url)\n",
    "data_set.head()"
   ]
  },
  {
   "cell_type": "code",
   "execution_count": 23,
   "metadata": {},
   "outputs": [
    {
     "data": {
      "text/plain": [
       "(1338, 7)"
      ]
     },
     "execution_count": 23,
     "metadata": {},
     "output_type": "execute_result"
    }
   ],
   "source": [
    "data_set.shape"
   ]
  },
  {
   "cell_type": "markdown",
   "metadata": {},
   "source": [
    "### -------------------------Data Preprocessing--------------------------------"
   ]
  },
  {
   "cell_type": "markdown",
   "metadata": {},
   "source": [
    "**--->Data CLeaning**"
   ]
  },
  {
   "cell_type": "markdown",
   "metadata": {},
   "source": [
    "`1. Handling missing values`"
   ]
  },
  {
   "cell_type": "code",
   "execution_count": 24,
   "metadata": {},
   "outputs": [
    {
     "data": {
      "text/plain": [
       "age         0\n",
       "sex         0\n",
       "bmi         0\n",
       "children    0\n",
       "smoker      0\n",
       "region      0\n",
       "expenses    0\n",
       "dtype: int64"
      ]
     },
     "execution_count": 24,
     "metadata": {},
     "output_type": "execute_result"
    }
   ],
   "source": [
    "data_set.isnull().sum()"
   ]
  },
  {
   "cell_type": "markdown",
   "metadata": {},
   "source": [
    "Report :  Here no null or missing values are present."
   ]
  },
  {
   "cell_type": "code",
   "execution_count": null,
   "metadata": {},
   "outputs": [],
   "source": []
  },
  {
   "cell_type": "markdown",
   "metadata": {},
   "source": [
    "`2. Handling duplicates`"
   ]
  },
  {
   "cell_type": "code",
   "execution_count": 25,
   "metadata": {},
   "outputs": [
    {
     "data": {
      "text/plain": [
       "1"
      ]
     },
     "execution_count": 25,
     "metadata": {},
     "output_type": "execute_result"
    }
   ],
   "source": [
    "data_set.duplicated().sum()"
   ]
  },
  {
   "cell_type": "code",
   "execution_count": 26,
   "metadata": {},
   "outputs": [],
   "source": [
    "data_set.drop_duplicates(inplace = True)"
   ]
  },
  {
   "cell_type": "code",
   "execution_count": 27,
   "metadata": {},
   "outputs": [
    {
     "data": {
      "text/plain": [
       "(1337, 7)"
      ]
     },
     "execution_count": 27,
     "metadata": {},
     "output_type": "execute_result"
    }
   ],
   "source": [
    "data_set.shape"
   ]
  },
  {
   "cell_type": "markdown",
   "metadata": {},
   "source": [
    "Report : One duplicate row was present. so we dropped that row . So now shape of the dataset has become 1337 x 7"
   ]
  },
  {
   "cell_type": "code",
   "execution_count": 28,
   "metadata": {},
   "outputs": [
    {
     "data": {
      "text/plain": [
       "age           int64\n",
       "sex          object\n",
       "bmi         float64\n",
       "children      int64\n",
       "smoker       object\n",
       "region       object\n",
       "expenses    float64\n",
       "dtype: object"
      ]
     },
     "execution_count": 28,
     "metadata": {},
     "output_type": "execute_result"
    }
   ],
   "source": [
    "data_set.dtypes"
   ]
  },
  {
   "cell_type": "code",
   "execution_count": null,
   "metadata": {},
   "outputs": [],
   "source": []
  },
  {
   "cell_type": "markdown",
   "metadata": {},
   "source": [
    "**Types of features**"
   ]
  },
  {
   "cell_type": "markdown",
   "metadata": {},
   "source": [
    "- Numerical features"
   ]
  },
  {
   "cell_type": "code",
   "execution_count": 64,
   "metadata": {},
   "outputs": [
    {
     "data": {
      "text/plain": [
       "['age', 'bmi', 'children', 'expenses']"
      ]
     },
     "execution_count": 64,
     "metadata": {},
     "output_type": "execute_result"
    }
   ],
   "source": [
    "numerical_features = [i for i in data_set.columns if data_set[i].dtypes != 'object']\n",
    "numerical_features"
   ]
  },
  {
   "cell_type": "markdown",
   "metadata": {},
   "source": [
    "-  Categorical features"
   ]
  },
  {
   "cell_type": "code",
   "execution_count": 65,
   "metadata": {},
   "outputs": [
    {
     "data": {
      "text/plain": [
       "['sex', 'smoker', 'region']"
      ]
     },
     "execution_count": 65,
     "metadata": {},
     "output_type": "execute_result"
    }
   ],
   "source": [
    "categorical_features = [i for i in data_set.columns if i not in numerical_features]\n",
    "categorical_features"
   ]
  },
  {
   "cell_type": "markdown",
   "metadata": {},
   "source": [
    "- Discrete features"
   ]
  },
  {
   "cell_type": "code",
   "execution_count": 31,
   "metadata": {},
   "outputs": [
    {
     "data": {
      "text/plain": [
       "['children']"
      ]
     },
     "execution_count": 31,
     "metadata": {},
     "output_type": "execute_result"
    }
   ],
   "source": [
    "discrete_features = [i for i in numerical_features if len(data_set[i].unique())<= 30]\n",
    "discrete_features"
   ]
  },
  {
   "cell_type": "code",
   "execution_count": 32,
   "metadata": {},
   "outputs": [
    {
     "data": {
      "text/plain": [
       "['age', 'bmi', 'expenses']"
      ]
     },
     "execution_count": 32,
     "metadata": {},
     "output_type": "execute_result"
    }
   ],
   "source": [
    "continous_features = [i for i in numerical_features if i not in discrete_features]\n",
    "continous_features"
   ]
  },
  {
   "cell_type": "code",
   "execution_count": null,
   "metadata": {},
   "outputs": [],
   "source": []
  },
  {
   "cell_type": "markdown",
   "metadata": {},
   "source": [
    "**---> Dealing with Multicollinearity**\n",
    "\n",
    "Multicollinearity occurs when there are two or more independent variables in a multiple regression model, which have a high correlation among themselves. When some features are highly correlated."
   ]
  },
  {
   "cell_type": "markdown",
   "metadata": {},
   "source": [
    "##### `Heatmap`"
   ]
  },
  {
   "cell_type": "code",
   "execution_count": 33,
   "metadata": {},
   "outputs": [
    {
     "data": {
      "image/png": "[encoded data removed]",
      "text/plain": [
       "<Figure size 1200x800 with 2 Axes>"
      ]
     },
     "metadata": {},
     "output_type": "display_data"
    }
   ],
   "source": [
    "plt.figure(figsize= (12,8))\n",
    "sns.heatmap(data_set.corr() ,annot = True, cmap='RdBu_r')\n",
    "plt.show()"
   ]
  },
  {
   "cell_type": "markdown",
   "metadata": {},
   "source": [
    "**Conclusion** \n",
    "* From above heatmap plot no multicollinearity found. So here we dont need to deal with the problem of multicollinearity here ."
   ]
  },
  {
   "cell_type": "code",
   "execution_count": null,
   "metadata": {},
   "outputs": [],
   "source": []
  },
  {
   "cell_type": "markdown",
   "metadata": {},
   "source": [
    "### ----------------------------Feature Transformation(FE)--------------------------------"
   ]
  },
  {
   "cell_type": "markdown",
   "metadata": {},
   "source": [
    "**---> Outliers detection and handling**"
   ]
  },
  {
   "cell_type": "markdown",
   "metadata": {},
   "source": [
    "\n",
    "\n",
    "Outliers are those data points which differs significantly from other observations present in given dataset. It can occur because of variability in measurement and due to misinterpretation in filling data points. Ouliers can very high impact on few Machine learning models.Can Cause bias in the output.\n",
    "\n",
    "Most common causes of outliers on a data set:\n",
    "\n",
    "1) Data Entry Errors: Human errors such as errors caused during data collection, recording, or entry can cause outliers in data.\n",
    "\n",
    "2) Measurement Error (instrument errors): It is the most common source of outliers. This is caused when the measurement instrument used turns out to be faulty.\n",
    "\n",
    "3) Experimental errors (data extraction or experiment planning/executing errors)\n",
    "\n",
    "4) Intentional (dummy outliers made to test detection methods)\n",
    "\n",
    "5) Data processing errors (data manipulation or data set unintended mutations)\n",
    "\n",
    "6) Natural Outlier (not an error, novelties in data): When an outlier is not artificial (due to error), it is a natural outlier. Most of real world data belong to this category."
   ]
  },
  {
   "cell_type": "markdown",
   "metadata": {},
   "source": []
  },
  {
   "cell_type": "code",
   "execution_count": 34,
   "metadata": {},
   "outputs": [
    {
     "data": {
      "image/png": "[encoded data removed]",
      "text/plain": [
       "<Figure size 1200x1000 with 3 Axes>"
      ]
     },
     "metadata": {},
     "output_type": "display_data"
    }
   ],
   "source": [
    "plt.figure(figsize=(12,10))\n",
    "for i in range(0,len(continous_features)):\n",
    "    plt.subplot(3, 2, i+1)\n",
    "    sns.boxplot(x = data_set[continous_features[i]])\n",
    "    plt.xlabel(continous_features[i])\n",
    "   "
   ]
  },
  {
   "cell_type": "markdown",
   "metadata": {},
   "source": [
    "Here we have some outliers in bmi column and more outliers in expenses column so we will handle outlier in these two."
   ]
  },
  {
   "cell_type": "markdown",
   "metadata": {},
   "source": [
    "Outliers Capping:\n",
    "\n",
    "- Outliers capping is widely used while handling outliers.\n",
    "\n",
    "- Capping converts the outliers and bring them in the limit or range of our data. \n",
    "\n",
    "- Capping in a sense is similar to trimming the dataset, but the difference here is, while trimming we used IQR or z-score and trimmed the data based on some IQR or z-score value. Here instead of trimming or removing the values from the dataset, we convert the outliers and bring them in the limit or range of our data.\n",
    "\n",
    "- Here we will use outliers capping for handling outliers.\n"
   ]
  },
  {
   "cell_type": "markdown",
   "metadata": {},
   "source": [
    "IQR For Outlier Handling :\n",
    "* For Skewed distributions: Use Inter-Quartile Range (IQR) proximity rule.\n",
    "\n",
    "* The data points which fall below Q1 – 1.5 IQR or above Q3 + 1.5 IQR are outliers.\n",
    "\n",
    "* where Q1 and Q3 are the 25th and 75th percentile of the dataset respectively, and IQR represents the inter-quartile range and given by Q3 – Q1.\n",
    "\n",
    "* percentile can be calculated for a column using `column_name.quantile(0.25 or  0.75)`"
   ]
  },
  {
   "cell_type": "code",
   "execution_count": 35,
   "metadata": {},
   "outputs": [
    {
     "data": {
      "text/plain": [
       "bmi         0.284463\n",
       "expenses    1.515391\n",
       "dtype: float64"
      ]
     },
     "execution_count": 35,
     "metadata": {},
     "output_type": "execute_result"
    }
   ],
   "source": [
    "## Checking skewness \n",
    "outliers_features = ['bmi' , 'expenses'] #  As we have outliers in bmi and expenses columns\n",
    "data_set[outliers_features].skew(axis=0 , skipna=True)"
   ]
  },
  {
   "cell_type": "markdown",
   "metadata": {},
   "source": [
    "Now we will  use outliers capping for handling the outliers and then check the skewness of our data after that."
   ]
  },
  {
   "cell_type": "code",
   "execution_count": 40,
   "metadata": {},
   "outputs": [
    {
     "name": "stdout",
     "output_type": "stream",
     "text": [
      "For ----bmi---\n",
      "Upper limit 47.300000000000004\n",
      "Lower limit 13.699999999999998\n",
      "No.of outliers above upper limit is 9\n",
      "No.of outliers below lower limit is 0\n",
      "Total no.of outliers are 9\n",
      "For ----expenses---\n",
      "Upper limit 34524.79\n",
      "Lower limit -13120.73\n",
      "No.of outliers above upper limit is 139\n",
      "No.of outliers below lower limit is 0\n",
      "Total no.of outliers are 139\n"
     ]
    }
   ],
   "source": [
    "for outliers in outliers_features:\n",
    "    p25 = data_set[outliers].quantile(0.25)\n",
    "    p75 = data_set[outliers].quantile(0.75)\n",
    "    \n",
    "    iqr = p75 - p25\n",
    "    \n",
    "    data_upper_limit = p75 + 1.5 * iqr\n",
    "    data_lower_limit = p25 - 1.5 * iqr\n",
    "    print(f\"For ----{outliers}---\")\n",
    "    print(\"Upper limit\",data_upper_limit)\n",
    "    print(\"Lower limit\",data_lower_limit)\n",
    "\n",
    "    print(f\"No.of outliers above upper limit is {len(data_set.loc[(data_set[outliers]> data_upper_limit), outliers])}\")\n",
    "    print(f\"No.of outliers below lower limit is {len(data_set.loc[(data_set[outliers] < data_lower_limit), outliers])}\")\n",
    "    print(f\"Total no.of outliers are {len(data_set.loc[(data_set[outliers]> data_upper_limit), outliers]) + len(data_set.loc[(data_set[outliers] < data_lower_limit), outliers])}\")\n",
    "\n",
    "    data_set.loc[(data_set[outliers]> data_upper_limit), outliers] = data_upper_limit\n",
    "    data_set.loc[(data_set[outliers]< data_lower_limit), outliers] = data_lower_limit\n",
    "    \n"
   ]
  },
  {
   "cell_type": "code",
   "execution_count": 41,
   "metadata": {},
   "outputs": [
    {
     "data": {
      "text/plain": [
       "bmi         0.233132\n",
       "expenses    1.084698\n",
       "dtype: float64"
      ]
     },
     "execution_count": 41,
     "metadata": {},
     "output_type": "execute_result"
    }
   ],
   "source": [
    "data_set[outliers_features].skew(axis=0 , skipna= True)"
   ]
  },
  {
   "cell_type": "markdown",
   "metadata": {},
   "source": [
    "Here we can clearly see that skewness has  decreeased for both \"bmi\" and \"expenses\" columns\n",
    "Lets see with the help of plot."
   ]
  },
  {
   "cell_type": "code",
   "execution_count": 42,
   "metadata": {},
   "outputs": [
    {
     "data": {
      "image/png": "[encoded data removed]",
      "text/plain": [
       "<Figure size 1200x1000 with 2 Axes>"
      ]
     },
     "metadata": {},
     "output_type": "display_data"
    }
   ],
   "source": [
    "plt.figure(figsize=(12,10))\n",
    "for i in range(0,len(outliers_features)):\n",
    "    plt.subplot(3, 2, i+1)\n",
    "    sns.boxplot(x = data_set[outliers_features[i]])\n",
    "    plt.xlabel(outliers_features[i])"
   ]
  },
  {
   "cell_type": "markdown",
   "metadata": {},
   "source": [
    "Here outliers are handled with the help of outliers capping method using IQR."
   ]
  },
  {
   "cell_type": "markdown",
   "metadata": {},
   "source": []
  },
  {
   "cell_type": "code",
   "execution_count": 56,
   "metadata": {},
   "outputs": [
    {
     "data": {
      "image/png": "[encoded data removed]",
      "text/plain": [
       "<Figure size 1400x1200 with 2 Axes>"
      ]
     },
     "metadata": {},
     "output_type": "display_data"
    }
   ],
   "source": [
    "plt.figure(figsize=(14, 12))\n",
    "for i, outlier in enumerate(outliers_features):\n",
    "    plt.subplot(4, 2, i+1)\n",
    "    sns.kdeplot(x=data_set[outlier], color='orange')\n",
    "    plt.xlabel(outlier)"
   ]
  },
  {
   "cell_type": "markdown",
   "metadata": {},
   "source": [
    "Before outliers handling the above plots were not normally distributed. Expense plot was like power law shaped. Now after outliers capping the \n",
    "distribution of the data now in Normal ."
   ]
  },
  {
   "cell_type": "code",
   "execution_count": null,
   "metadata": {},
   "outputs": [],
   "source": []
  },
  {
   "cell_type": "markdown",
   "metadata": {},
   "source": [
    "**---> Feature Encoding and Feature Scaling**"
   ]
  },
  {
   "cell_type": "markdown",
   "metadata": {},
   "source": [
    "Now we will do `encoding` using `OneHotEncoder` for our categorical features as machine learnig only understands numbers. \n",
    "We will also do `feature scaling` of our numerical features using `SatandardScalar`.\n",
    "\n",
    "But before that we need to split our data into independent columns (varibale `X` ) and dependent column (variable `y `).Lets do that"
   ]
  },
  {
   "cell_type": "markdown",
   "metadata": {},
   "source": []
  },
  {
   "cell_type": "markdown",
   "metadata": {},
   "source": [
    "#### Feature Selection"
   ]
  },
  {
   "cell_type": "code",
   "execution_count": 73,
   "metadata": {},
   "outputs": [],
   "source": [
    "#Splitting data in to independent and dependent columns X, y \n",
    "\n",
    "X = data_set.drop(['expenses'] , axis = 1)\n",
    "y = data_set['expenses']"
   ]
  },
  {
   "cell_type": "code",
   "execution_count": 74,
   "metadata": {},
   "outputs": [
    {
     "data": {
      "text/html": [
       "<div>\n",
       "<style scoped>\n",
       "    .dataframe tbody tr th:only-of-type {\n",
       "        vertical-align: middle;\n",
       "    }\n",
       "\n",
       "    .dataframe tbody tr th {\n",
       "        vertical-align: top;\n",
       "    }\n",
       "\n",
       "    .dataframe thead th {\n",
       "        text-align: right;\n",
       "    }\n",
       "</style>\n",
       "<table border=\"1\" class=\"dataframe\">\n",
       "  <thead>\n",
       "    <tr style=\"text-align: right;\">\n",
       "      <th></th>\n",
       "      <th>age</th>\n",
       "      <th>sex</th>\n",
       "      <th>bmi</th>\n",
       "      <th>children</th>\n",
       "      <th>smoker</th>\n",
       "      <th>region</th>\n",
       "    </tr>\n",
       "  </thead>\n",
       "  <tbody>\n",
       "    <tr>\n",
       "      <th>0</th>\n",
       "      <td>19</td>\n",
       "      <td>female</td>\n",
       "      <td>27.9</td>\n",
       "      <td>0</td>\n",
       "      <td>yes</td>\n",
       "      <td>southwest</td>\n",
       "    </tr>\n",
       "    <tr>\n",
       "      <th>1</th>\n",
       "      <td>18</td>\n",
       "      <td>male</td>\n",
       "      <td>33.8</td>\n",
       "      <td>1</td>\n",
       "      <td>no</td>\n",
       "      <td>southeast</td>\n",
       "    </tr>\n",
       "    <tr>\n",
       "      <th>2</th>\n",
       "      <td>28</td>\n",
       "      <td>male</td>\n",
       "      <td>33.0</td>\n",
       "      <td>3</td>\n",
       "      <td>no</td>\n",
       "      <td>southeast</td>\n",
       "    </tr>\n",
       "    <tr>\n",
       "      <th>3</th>\n",
       "      <td>33</td>\n",
       "      <td>male</td>\n",
       "      <td>22.7</td>\n",
       "      <td>0</td>\n",
       "      <td>no</td>\n",
       "      <td>northwest</td>\n",
       "    </tr>\n",
       "    <tr>\n",
       "      <th>4</th>\n",
       "      <td>32</td>\n",
       "      <td>male</td>\n",
       "      <td>28.9</td>\n",
       "      <td>0</td>\n",
       "      <td>no</td>\n",
       "      <td>northwest</td>\n",
       "    </tr>\n",
       "  </tbody>\n",
       "</table>\n",
       "</div>"
      ],
      "text/plain": [
       "   age     sex   bmi  children smoker     region\n",
       "0   19  female  27.9         0    yes  southwest\n",
       "1   18    male  33.8         1     no  southeast\n",
       "2   28    male  33.0         3     no  southeast\n",
       "3   33    male  22.7         0     no  northwest\n",
       "4   32    male  28.9         0     no  northwest"
      ]
     },
     "execution_count": 74,
     "metadata": {},
     "output_type": "execute_result"
    }
   ],
   "source": [
    "X.head()"
   ]
  },
  {
   "cell_type": "code",
   "execution_count": 75,
   "metadata": {},
   "outputs": [
    {
     "data": {
      "text/plain": [
       "0    16884.92\n",
       "1     1725.55\n",
       "2     4449.46\n",
       "3    21984.47\n",
       "4     3866.86\n",
       "Name: expenses, dtype: float64"
      ]
     },
     "execution_count": 75,
     "metadata": {},
     "output_type": "execute_result"
    }
   ],
   "source": [
    "y.head()"
   ]
  },
  {
   "cell_type": "code",
   "execution_count": 66,
   "metadata": {},
   "outputs": [],
   "source": [
    "numerical_features_tr = X.select_dtypes(exclude=\"object\").columns\n",
    "categorical_features_tr = X.select_dtypes(include= \"object\").columns"
   ]
  },
  {
   "cell_type": "markdown",
   "metadata": {},
   "source": [
    "Now we will use Column Transformer Tbecause this estimator allows different columns or column subsets of the input to be transformed separately and the features generated by each transformer will be concatenated to form a single feature space.\n",
    "This estimater takes list of tuples (name, transformer, columns)  specifying the transformer objects to be applied to subsets of the data."
   ]
  },
  {
   "cell_type": "code",
   "execution_count": 82,
   "metadata": {},
   "outputs": [],
   "source": [
    "from sklearn.compose import ColumnTransformer\n",
    "from sklearn.preprocessing import OneHotEncoder, StandardScaler\n",
    "\n",
    "st_scalar = StandardScaler()\n",
    "one_encoder = OneHotEncoder()\n",
    "\n",
    "preprocessor = ColumnTransformer(\n",
    "    [(\"OneHotencoder\", one_encoder, categorical_features_tr),\n",
    "    (\"StandardScaler\" , st_scalar , numerical_features_tr)]\n",
    ")\n",
    "\n",
    "X = preprocessor.fit_transform(X)"
   ]
  },
  {
   "cell_type": "markdown",
   "metadata": {},
   "source": [
    "#### Train and test split"
   ]
  },
  {
   "cell_type": "code",
   "execution_count": 84,
   "metadata": {},
   "outputs": [],
   "source": [
    "from sklearn.model_selection import train_test_split\n",
    "X_train, X_test, y_train, y_test = train_test_split(X,y, test_size=0.2, random_state=42)"
   ]
  },
  {
   "cell_type": "code",
   "execution_count": 85,
   "metadata": {},
   "outputs": [
    {
     "data": {
      "text/plain": [
       "((1069, 11), (268, 11))"
      ]
     },
     "execution_count": 85,
     "metadata": {},
     "output_type": "execute_result"
    }
   ],
   "source": [
    "X_train.shape, X_test.shape"
   ]
  },
  {
   "cell_type": "code",
   "execution_count": null,
   "metadata": {},
   "outputs": [],
   "source": []
  },
  {
   "cell_type": "markdown",
   "metadata": {},
   "source": [
    "#### Model Selection"
   ]
  },
  {
   "cell_type": "markdown",
   "metadata": {},
   "source": [
    "* Now we will use various regressions models but for now we will use default values i.e without hyper parameter tunning.\n",
    "\n",
    "* We will also chose the best parameter for our model . i.e hyper parameter tunning . and try to get the better result as compared to without hyper parameter tunnning.\n",
    "\n",
    "*  For evaluating the quality of predictions we will use :\n",
    "    1) mean absoulte error\n",
    "    2) mean squared error \n",
    "    3) root mean squared error\n",
    "    4) R2 score\n",
    "\n"
   ]
  },
  {
   "cell_type": "markdown",
   "metadata": {},
   "source": []
  },
  {
   "cell_type": "code",
   "execution_count": 86,
   "metadata": {},
   "outputs": [],
   "source": [
    "# Creating function to evaluate our models\n",
    "\n",
    "from sklearn.metrics import mean_absolute_error , mean_squared_error, r2_score\n",
    "\n",
    "def model_evaluation(true_value, predicted_value):\n",
    "    mae = mean_absolute_error(true_value, predicted_value)\n",
    "    mse = mean_squared_error(true_value, predicted_value)\n",
    "    rmse = np.sqrt(mean_squared_error(true_value, predicted_value))\n",
    "    r2_square = r2_score(true_value, predicted_value)\n",
    "    return mae, mse,rmse, r2_square"
   ]
  },
  {
   "cell_type": "code",
   "execution_count": 134,
   "metadata": {},
   "outputs": [],
   "source": [
    "from sklearn.linear_model import LinearRegression , Ridge , Lasso\n",
    "from sklearn.neighbors import KNeighborsRegressor\n",
    "from sklearn.tree import DecisionTreeRegressor\n",
    "from sklearn.ensemble import RandomForestRegressor, AdaBoostRegressor\n",
    "\n",
    "from catboost import CatBoostRegressor\n",
    "from xgboost import XGBRegressor\n",
    "\n",
    "model_list = [LinearRegression() ,\n",
    "          Ridge() , \n",
    "          Lasso() ,\n",
    "          KNeighborsRegressor(),\n",
    "          RandomForestRegressor(), \n",
    "          DecisionTreeRegressor(),  \n",
    "          CatBoostRegressor(verbose=False) ,\n",
    "          XGBRegressor(),\n",
    "          AdaBoostRegressor()\n",
    "          ]\n",
    "\n"
   ]
  },
  {
   "cell_type": "code",
   "execution_count": 137,
   "metadata": {},
   "outputs": [
    {
     "name": "stdout",
     "output_type": "stream",
     "text": [
      "Linear Regression\n",
      "Model performance for Training set\n",
      "---> Mean Absolute Error: 3432.8403086997196\n",
      "---> Mean Squared Error: 27413965.394824605\n",
      "---> Root Mean Squared Error: 5235.834737157448\n",
      "---> R2 Score: 0.7251781990906823\n",
      "__________________________________________________________\n",
      "Model performance for Test set\n",
      "---> Mean Absolute Error: 3163.355820895523\n",
      "---> Mean Squared Error: 21072641.718892537\n",
      "---> Root Mean Squared Error: 4590.494713959764\n",
      "---> R2 Score: 0.8196664435065001\n",
      "*********************************************\n",
      "\n",
      "\n",
      "Ridge\n",
      "Model performance for Training set\n",
      "---> Mean Absolute Error: 3434.716128795149\n",
      "---> Mean Squared Error: 27397129.46272969\n",
      "---> Root Mean Squared Error: 5234.226730160787\n",
      "---> R2 Score: 0.7253469773433603\n",
      "__________________________________________________________\n",
      "Model performance for Test set\n",
      "---> Mean Absolute Error: 3160.1998911045234\n",
      "---> Mean Squared Error: 20945337.88645869\n",
      "---> Root Mean Squared Error: 4576.607683258277\n",
      "---> R2 Score: 0.8207558727847223\n",
      "*********************************************\n",
      "\n",
      "\n",
      "Lasso\n",
      "Model performance for Training set\n",
      "---> Mean Absolute Error: 3429.997393295488\n",
      "---> Mean Squared Error: 27396607.07225447\n",
      "---> Root Mean Squared Error: 5234.176828523705\n",
      "---> R2 Score: 0.7253522142468549\n",
      "__________________________________________________________\n",
      "Model performance for Test set\n",
      "---> Mean Absolute Error: 3152.4975361365596\n",
      "---> Mean Squared Error: 20917042.08023951\n",
      "---> Root Mean Squared Error: 4573.515286979973\n",
      "---> R2 Score: 0.8209980200881988\n",
      "*********************************************\n",
      "\n",
      "\n",
      "KNeighbors Regressor\n",
      "Model performance for Training set\n",
      "---> Mean Absolute Error: 2604.6032478952297\n",
      "---> Mean Squared Error: 18896264.98633285\n",
      "---> Root Mean Squared Error: 4346.98343524942\n",
      "---> R2 Score: 0.8105671507492285\n",
      "__________________________________________________________\n",
      "Model performance for Test set\n",
      "---> Mean Absolute Error: 3264.114186567165\n",
      "---> Mean Squared Error: 26250688.15379993\n",
      "---> Root Mean Squared Error: 5123.542539474024\n",
      "---> R2 Score: 0.7753542238165423\n",
      "*********************************************\n",
      "\n",
      "\n",
      "Random Forest Regressor\n",
      "Model performance for Training set\n",
      "---> Mean Absolute Error: 937.8358896164646\n",
      "---> Mean Squared Error: 3085001.780470461\n",
      "---> Root Mean Squared Error: 1756.4173138723215\n",
      "---> R2 Score: 0.9690732175040463\n",
      "__________________________________________________________\n",
      "Model performance for Test set\n",
      "---> Mean Absolute Error: 2180.7983623134346\n",
      "---> Mean Squared Error: 17786014.91679302\n",
      "---> Root Mean Squared Error: 4217.346904962054\n",
      "---> R2 Score: 0.8477924425148775\n",
      "*********************************************\n",
      "\n",
      "\n",
      "Decision Tree Regressor\n",
      "Model performance for Training set\n",
      "---> Mean Absolute Error: 1.3884895727721411e-12\n",
      "---> Mean Squared Error: 3.030777383767726e-23\n",
      "---> Root Mean Squared Error: 5.5052496617026605e-12\n",
      "---> R2 Score: 1.0\n",
      "__________________________________________________________\n",
      "Model performance for Test set\n",
      "---> Mean Absolute Error: 2272.331082089555\n",
      "---> Mean Squared Error: 30335527.113108587\n",
      "---> Root Mean Squared Error: 5507.769704073382\n",
      "---> R2 Score: 0.7403973566585478\n",
      "*********************************************\n",
      "\n",
      "\n",
      "Cat Boost Regressor\n",
      "Model performance for Training set\n",
      "---> Mean Absolute Error: 1451.755515870623\n",
      "---> Mean Squared Error: 7041753.736423919\n",
      "---> Root Mean Squared Error: 2653.6302938472645\n",
      "---> R2 Score: 0.9294072413263759\n",
      "__________________________________________________________\n",
      "Model performance for Test set\n",
      "---> Mean Absolute Error: 2371.769162328363\n",
      "---> Mean Squared Error: 16953129.043699693\n",
      "---> Root Mean Squared Error: 4117.417764048202\n",
      "---> R2 Score: 0.8549200382692084\n",
      "*********************************************\n",
      "\n",
      "\n",
      "XGB Regressor\n",
      "Model performance for Training set\n",
      "---> Mean Absolute Error: 446.20282216056916\n",
      "---> Mean Squared Error: 577367.3599766102\n",
      "---> Root Mean Squared Error: 759.8469319386702\n",
      "---> R2 Score: 0.9942119596574311\n",
      "__________________________________________________________\n",
      "Model performance for Test set\n",
      "---> Mean Absolute Error: 2642.4389193042352\n",
      "---> Mean Squared Error: 22447370.72951046\n",
      "---> Root Mean Squared Error: 4737.865630166231\n",
      "---> R2 Score: 0.8079019113227037\n",
      "*********************************************\n",
      "\n",
      "\n",
      "AdaBoostRegressor\n",
      "Model performance for Training set\n",
      "---> Mean Absolute Error: 3545.858829635086\n",
      "---> Mean Squared Error: 22032554.87449081\n",
      "---> Root Mean Squared Error: 4693.884838222047\n",
      "---> R2 Score: 0.7791262109645751\n",
      "__________________________________________________________\n",
      "Model performance for Test set\n",
      "---> Mean Absolute Error: 3329.384596854502\n",
      "---> Mean Squared Error: 18785451.268405963\n",
      "---> Root Mean Squared Error: 4334.21864566221\n",
      "---> R2 Score: 0.839239556067154\n",
      "*********************************************\n",
      "\n",
      "\n"
     ]
    }
   ],
   "source": [
    "r2 = []\n",
    "model_list_name = [\"Linear Regression\", \"Ridge\", \"Lasso\", \"KNeighbors Regressor\",\"Random Forest Regressor\", \"Decision Tree Regressor\" , \"Cat Boost Regressor\", \"XGB Regressor\", \"AdaBoostRegressor\"]\n",
    "for model in range(len(model_list)) :\n",
    "\n",
    "    # Training our model\n",
    "    model_list[model].fit(X_train, y_train)\n",
    "\n",
    "    # Making predictions\n",
    "    y_train_predicted = model_list[model].predict(X_train)\n",
    "    y_test_predicted = model_list[model].predict(X_test)\n",
    "\n",
    "    # Evaluating train and test dataset\n",
    "    model_train_mae , model_train_mse, model_train_rmse, model_train_r2 = model_evaluation(y_train, y_train_predicted)\n",
    "    model_test_mae , model_test_mse, model_test_rmse, model_test_r2 = model_evaluation(y_test, y_test_predicted)\n",
    "\n",
    "    r2.append(model_test_r2)\n",
    "    \n",
    "    print(model_list_name[model])\n",
    "    print('Model performance for Training set')\n",
    "\n",
    "    print(f\"---> Mean Absolute Error: {model_train_mae}\")\n",
    "    print(f\"---> Mean Squared Error: {model_train_mse}\")\n",
    "    print(f\"---> Root Mean Squared Error: {model_train_rmse}\")\n",
    "    print(f\"---> R2 Score: {model_train_r2}\")\n",
    "\n",
    "    print(\"__________________________________________________________\")\n",
    "    \n",
    "    print('Model performance for Test set')\n",
    "\n",
    "\n",
    "    print(f\"---> Mean Absolute Error: {model_test_mae}\")\n",
    "    print(f\"---> Mean Squared Error: {model_test_mse}\")\n",
    "    print(f\"---> Root Mean Squared Error: {model_test_rmse}\")\n",
    "    print(f\"---> R2 Score: {model_test_r2}\")\n",
    "\n",
    "    \n",
    "    print('*'*45)\n",
    "    print('\\n')\n",
    "\n",
    "\n"
   ]
  },
  {
   "cell_type": "markdown",
   "metadata": {},
   "source": [
    "`Result (r2 score) of all models at one place`"
   ]
  },
  {
   "cell_type": "code",
   "execution_count": 143,
   "metadata": {},
   "outputs": [
    {
     "data": {
      "text/html": [
       "<div>\n",
       "<style scoped>\n",
       "    .dataframe tbody tr th:only-of-type {\n",
       "        vertical-align: middle;\n",
       "    }\n",
       "\n",
       "    .dataframe tbody tr th {\n",
       "        vertical-align: top;\n",
       "    }\n",
       "\n",
       "    .dataframe thead th {\n",
       "        text-align: right;\n",
       "    }\n",
       "</style>\n",
       "<table border=\"1\" class=\"dataframe\">\n",
       "  <thead>\n",
       "    <tr style=\"text-align: right;\">\n",
       "      <th></th>\n",
       "      <th>Model</th>\n",
       "      <th>R2_square</th>\n",
       "    </tr>\n",
       "  </thead>\n",
       "  <tbody>\n",
       "    <tr>\n",
       "      <th>0</th>\n",
       "      <td>Cat Boost Regressor</td>\n",
       "      <td>0.854920</td>\n",
       "    </tr>\n",
       "    <tr>\n",
       "      <th>1</th>\n",
       "      <td>Random Forest Regressor</td>\n",
       "      <td>0.847792</td>\n",
       "    </tr>\n",
       "    <tr>\n",
       "      <th>2</th>\n",
       "      <td>AdaBoostRegressor</td>\n",
       "      <td>0.839240</td>\n",
       "    </tr>\n",
       "    <tr>\n",
       "      <th>3</th>\n",
       "      <td>Lasso</td>\n",
       "      <td>0.820998</td>\n",
       "    </tr>\n",
       "    <tr>\n",
       "      <th>4</th>\n",
       "      <td>Ridge</td>\n",
       "      <td>0.820756</td>\n",
       "    </tr>\n",
       "    <tr>\n",
       "      <th>5</th>\n",
       "      <td>Linear Regression</td>\n",
       "      <td>0.819666</td>\n",
       "    </tr>\n",
       "    <tr>\n",
       "      <th>6</th>\n",
       "      <td>XGB Regressor</td>\n",
       "      <td>0.807902</td>\n",
       "    </tr>\n",
       "    <tr>\n",
       "      <th>7</th>\n",
       "      <td>KNeighbors Regressor</td>\n",
       "      <td>0.775354</td>\n",
       "    </tr>\n",
       "    <tr>\n",
       "      <th>8</th>\n",
       "      <td>Decision Tree Regressor</td>\n",
       "      <td>0.740397</td>\n",
       "    </tr>\n",
       "  </tbody>\n",
       "</table>\n",
       "</div>"
      ],
      "text/plain": [
       "                     Model  R2_square\n",
       "0      Cat Boost Regressor   0.854920\n",
       "1  Random Forest Regressor   0.847792\n",
       "2        AdaBoostRegressor   0.839240\n",
       "3                    Lasso   0.820998\n",
       "4                    Ridge   0.820756\n",
       "5        Linear Regression   0.819666\n",
       "6            XGB Regressor   0.807902\n",
       "7     KNeighbors Regressor   0.775354\n",
       "8  Decision Tree Regressor   0.740397"
      ]
     },
     "execution_count": 143,
     "metadata": {},
     "output_type": "execute_result"
    }
   ],
   "source": [
    "pd.DataFrame(zip(model_list_name, r2) ,columns= [\"Model\" , \"R2_square\"]).sort_values(by=['R2_square'], ascending= False).reset_index(drop=True)"
   ]
  },
  {
   "cell_type": "markdown",
   "metadata": {},
   "source": [
    "Here we can use top three with high r2 square score for hyper parameter tunning in order to improve the score.\n",
    "So we will use \tRandom Forest Regressor,Cat Boost Regressor and AdaBoostRegressor."
   ]
  },
  {
   "cell_type": "code",
   "execution_count": null,
   "metadata": {},
   "outputs": [],
   "source": []
  },
  {
   "cell_type": "code",
   "execution_count": null,
   "metadata": {},
   "outputs": [],
   "source": []
  }
 ],
 "metadata": {
  "kernelspec": {
   "display_name": "Python 3.10.8 64-bit (microsoft store)",
   "language": "python",
   "name": "python3"
  },
  "language_info": {
   "codemirror_mode": {
    "name": "ipython",
    "version": 3
   },
   "file_extension": ".py",
   "mimetype": "text/x-python",
   "name": "python",
   "nbconvert_exporter": "python",
   "pygments_lexer": "ipython3",
   "version": "3.10.10"
  },
  "orig_nbformat": 4,
  "vscode": {
   "interpreter": {
    "hash": "66c26b0acdc1f19b45eafdc94f82f80103873074a20dbf1f69e24ffc561b8bdd"
   }
  }
 },
 "nbformat": 4,
 "nbformat_minor": 2
}
